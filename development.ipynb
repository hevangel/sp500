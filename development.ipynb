{
 "cells": [
  {
   "cell_type": "code",
   "execution_count": 22,
   "metadata": {},
   "outputs": [],
   "source": [
    "import pandas as pd"
   ]
  },
  {
   "cell_type": "code",
   "execution_count": 24,
   "metadata": {
    "pycharm": {
     "name": "#%%\n"
    }
   },
   "outputs": [],
   "source": [
    "df = pd.read_csv('../stock_data/raw_bonds_bi/bonds_2020-09-12.csv', parse_dates=True)\n",
    "df['Ask'] = pd.to_numeric(df['Ask'].str.replace('-','999'))\n",
    "df['Bid'] = pd.to_numeric(df['Bid'].str.replace('-','999'))"
   ]
  },
  {
   "cell_type": "code",
   "execution_count": 25,
   "outputs": [],
   "source": [
    "df2 = df[['Issuer','Bid','Ask']].groupby(by=['Issuer']).min()"
   ],
   "metadata": {
    "collapsed": false,
    "pycharm": {
     "name": "#%%\n"
    }
   }
  },
  {
   "cell_type": "code",
   "execution_count": 28,
   "outputs": [
    {
     "data": {
      "text/plain": "Issuer\nChesapeake Energy Corp.                                                 4.00\nWindstream Holdings Inc.                                                5.00\nDiamond Offshore Drilling Inc.                                         11.58\nMcDermott Technology [Americas] Inc./McDermott Technology [US] Inc.    14.47\nJ.C. Penney Corp. Inc.                                                 20.06\nEXCO Resources Inc.                                                    23.00\nCleveland-Cliffs Inc.                                                  25.00\nPeabody Energy Corp.                                                   27.05\nOverseas Shipholding Group Inc.                                        32.00\nFrontier Communications Corp.                                          39.52\nEnergy Harbor Corp.                                                    40.93\nThe Hertz Corp.                                                        45.00\nDean Foods Co. [new]                                                   49.00\nFresh Market Inc.                                                      56.00\nJ.C. Penney Co. Inc.                                                   58.39\nEnergy Transfer Operating L.P.                                         60.45\nTalen Energy Supply LLC                                                64.50\nDenbury Resources Inc.                                                 65.10\nWindstream Services LLC/Windstream Finance Corp.                       67.00\nUnited States Steel Corp.                                              67.60\nVerizon Communications Inc.                                            68.00\nGlencore Funding LLC                                                   69.00\nEQM Midstream Partners L.P.                                            70.00\nMacy's Retail Holdings Inc.                                            70.50\nThe Williams Cos. Inc.                                                 71.17\nEnable Midstream Partners LP                                           71.19\nBed Bath & Beyond Inc.                                                 71.91\nAzul Investments LLP                                                   72.50\nNordstrom Inc.                                                         73.84\nOccidental Petroleum Corp.                                             74.69\nPG & E Corp.                                                           78.72\nFluor Corp. [New]                                                      80.29\nWPX Energy Inc.                                                        82.05\nB.A.T. Capital Corp.                                                   82.70\nGenworth Holdings Inc.                                                 84.38\nService Properties Trust                                               84.75\nBristol-Myers Squibb Co.                                               85.44\nPacific Gas & Electric Company                                         86.18\nAmerican Airlines 2015-2 Pass Through Trust                            86.27\nADT Corp.                                                              86.38\nL Brands Inc.                                                          86.62\nCelgene Corp.                                                          86.75\n3M Co.                                                                 87.24\nBoeing Co.                                                             87.79\nGeneral Motors Financial Co. Inc.                                      87.86\nUnion Pacific Corp.                                                    88.21\nGeneral Mills Inc.                                                     88.29\nDiamondback Energy Inc.                                                88.58\nBuckeye Partners L.P.                                                  88.73\nMartin Marietta Materials Inc.                                         88.96\nName: Ask, dtype: float64"
     },
     "execution_count": 28,
     "metadata": {},
     "output_type": "execute_result"
    }
   ],
   "source": [
    "df3 = df2['Ask'].sort_values()\n",
    "df3.head(50)\n",
    "\n"
   ],
   "metadata": {
    "collapsed": false,
    "pycharm": {
     "name": "#%%\n"
    }
   }
  }
 ],
 "metadata": {
  "kernelspec": {
   "display_name": "Python 3",
   "language": "python",
   "name": "python3"
  },
  "language_info": {
   "codemirror_mode": {
    "name": "ipython",
    "version": 3
   },
   "file_extension": ".py",
   "mimetype": "text/x-python",
   "name": "python",
   "nbconvert_exporter": "python",
   "pygments_lexer": "ipython3",
   "version": "3.7.6"
  }
 },
 "nbformat": 4,
 "nbformat_minor": 4
}