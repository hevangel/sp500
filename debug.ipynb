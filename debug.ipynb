{
 "cells": [
  {
   "cell_type": "code",
   "execution_count": 138,
   "metadata": {
    "collapsed": true
   },
   "outputs": [],
   "source": [
    "import pandas as pd\n",
    "from datetime import datetime"
   ]
  },
  {
   "cell_type": "code",
   "execution_count": 139,
   "outputs": [],
   "source": [
    "df_gold_spot = pd.read_csv('data_historical_investingcom/xauusd.csv')\n",
    "df_gold_spot['Date'] = pd.to_datetime(df_gold_spot['Date'])\n",
    "df_gold_spot.set_index('Date', inplace=True)"
   ],
   "metadata": {
    "collapsed": false,
    "pycharm": {
     "name": "#%%\n"
    }
   }
  },
  {
   "cell_type": "code",
   "execution_count": 140,
   "outputs": [],
   "source": [
    "df_gc = pd.read_csv('data_historical_investingcom/gc.csv')\n",
    "df_gc['Date'] = pd.to_datetime(df_gc['Date'])\n",
    "df_gc.set_index('Date', inplace=True)"
   ],
   "metadata": {
    "collapsed": false,
    "pycharm": {
     "name": "#%%\n"
    }
   }
  },
  {
   "cell_type": "code",
   "execution_count": 141,
   "outputs": [
    {
     "data": {
      "text/plain": "              Open    High     Low   Close\nDate                                      \n1979-12-26  515.50  515.50  515.50  515.50\n1979-12-27  512.00  512.00  512.00  512.00\n1979-12-31  512.00  512.00  512.00  512.00\n1980-01-01  559.75  559.75  559.75  559.75\n1980-01-02  634.25  634.25  634.25  634.25",
      "text/html": "<div>\n<style scoped>\n    .dataframe tbody tr th:only-of-type {\n        vertical-align: middle;\n    }\n\n    .dataframe tbody tr th {\n        vertical-align: top;\n    }\n\n    .dataframe thead th {\n        text-align: right;\n    }\n</style>\n<table border=\"1\" class=\"dataframe\">\n  <thead>\n    <tr style=\"text-align: right;\">\n      <th></th>\n      <th>Open</th>\n      <th>High</th>\n      <th>Low</th>\n      <th>Close</th>\n    </tr>\n    <tr>\n      <th>Date</th>\n      <th></th>\n      <th></th>\n      <th></th>\n      <th></th>\n    </tr>\n  </thead>\n  <tbody>\n    <tr>\n      <th>1979-12-26</th>\n      <td>515.50</td>\n      <td>515.50</td>\n      <td>515.50</td>\n      <td>515.50</td>\n    </tr>\n    <tr>\n      <th>1979-12-27</th>\n      <td>512.00</td>\n      <td>512.00</td>\n      <td>512.00</td>\n      <td>512.00</td>\n    </tr>\n    <tr>\n      <th>1979-12-31</th>\n      <td>512.00</td>\n      <td>512.00</td>\n      <td>512.00</td>\n      <td>512.00</td>\n    </tr>\n    <tr>\n      <th>1980-01-01</th>\n      <td>559.75</td>\n      <td>559.75</td>\n      <td>559.75</td>\n      <td>559.75</td>\n    </tr>\n    <tr>\n      <th>1980-01-02</th>\n      <td>634.25</td>\n      <td>634.25</td>\n      <td>634.25</td>\n      <td>634.25</td>\n    </tr>\n  </tbody>\n</table>\n</div>"
     },
     "execution_count": 141,
     "metadata": {},
     "output_type": "execute_result"
    }
   ],
   "source": [
    "df_gold_spot.head()"
   ],
   "metadata": {
    "collapsed": false,
    "pycharm": {
     "name": "#%%\n"
    }
   }
  },
  {
   "cell_type": "code",
   "execution_count": 142,
   "outputs": [
    {
     "data": {
      "text/plain": "              Open   High     Low     GC\nDate                                    \n1979-12-26  517.00  517.0  513.00  515.5\n1979-12-27  516.00  517.8  510.40  517.8\n1979-12-30  527.88  534.5  527.88  533.6\n1980-01-01  562.50  577.0  558.00  575.5\n1980-01-02  627.00  640.0  603.00  625.0",
      "text/html": "<div>\n<style scoped>\n    .dataframe tbody tr th:only-of-type {\n        vertical-align: middle;\n    }\n\n    .dataframe tbody tr th {\n        vertical-align: top;\n    }\n\n    .dataframe thead th {\n        text-align: right;\n    }\n</style>\n<table border=\"1\" class=\"dataframe\">\n  <thead>\n    <tr style=\"text-align: right;\">\n      <th></th>\n      <th>Open</th>\n      <th>High</th>\n      <th>Low</th>\n      <th>GC</th>\n    </tr>\n    <tr>\n      <th>Date</th>\n      <th></th>\n      <th></th>\n      <th></th>\n      <th></th>\n    </tr>\n  </thead>\n  <tbody>\n    <tr>\n      <th>1979-12-26</th>\n      <td>517.00</td>\n      <td>517.0</td>\n      <td>513.00</td>\n      <td>515.5</td>\n    </tr>\n    <tr>\n      <th>1979-12-27</th>\n      <td>516.00</td>\n      <td>517.8</td>\n      <td>510.40</td>\n      <td>517.8</td>\n    </tr>\n    <tr>\n      <th>1979-12-30</th>\n      <td>527.88</td>\n      <td>534.5</td>\n      <td>527.88</td>\n      <td>533.6</td>\n    </tr>\n    <tr>\n      <th>1980-01-01</th>\n      <td>562.50</td>\n      <td>577.0</td>\n      <td>558.00</td>\n      <td>575.5</td>\n    </tr>\n    <tr>\n      <th>1980-01-02</th>\n      <td>627.00</td>\n      <td>640.0</td>\n      <td>603.00</td>\n      <td>625.0</td>\n    </tr>\n  </tbody>\n</table>\n</div>"
     },
     "execution_count": 142,
     "metadata": {},
     "output_type": "execute_result"
    }
   ],
   "source": [
    "#df_gc.drop(df_gc.index < datetime(1980,1,1), inplace=True)\n",
    "df_gc.rename({'Close' : 'GC'}, axis=1, inplace=True)\n",
    "df_gc.head()"
   ],
   "metadata": {
    "collapsed": false,
    "pycharm": {
     "name": "#%%\n"
    }
   }
  },
  {
   "cell_type": "code",
   "execution_count": 155,
   "outputs": [
    {
     "data": {
      "text/plain": "             Close     GC\nDate                     \n1979-12-26  515.50  515.5\n1979-12-27  512.00  517.8\n1980-01-01  559.75  575.5\n1980-01-02  634.25  625.0\n1980-01-03  634.25  603.6",
      "text/html": "<div>\n<style scoped>\n    .dataframe tbody tr th:only-of-type {\n        vertical-align: middle;\n    }\n\n    .dataframe tbody tr th {\n        vertical-align: top;\n    }\n\n    .dataframe thead th {\n        text-align: right;\n    }\n</style>\n<table border=\"1\" class=\"dataframe\">\n  <thead>\n    <tr style=\"text-align: right;\">\n      <th></th>\n      <th>Close</th>\n      <th>GC</th>\n    </tr>\n    <tr>\n      <th>Date</th>\n      <th></th>\n      <th></th>\n    </tr>\n  </thead>\n  <tbody>\n    <tr>\n      <th>1979-12-26</th>\n      <td>515.50</td>\n      <td>515.5</td>\n    </tr>\n    <tr>\n      <th>1979-12-27</th>\n      <td>512.00</td>\n      <td>517.8</td>\n    </tr>\n    <tr>\n      <th>1980-01-01</th>\n      <td>559.75</td>\n      <td>575.5</td>\n    </tr>\n    <tr>\n      <th>1980-01-02</th>\n      <td>634.25</td>\n      <td>625.0</td>\n    </tr>\n    <tr>\n      <th>1980-01-03</th>\n      <td>634.25</td>\n      <td>603.6</td>\n    </tr>\n  </tbody>\n</table>\n</div>"
     },
     "execution_count": 155,
     "metadata": {},
     "output_type": "execute_result"
    }
   ],
   "source": [
    "df_gold_spot['GC'] = df_gc['GC']\n",
    "df = df_gold_spot[df_gold_spot['GC'].notna()]\n",
    "df = df[['Close','GC']]\n",
    "df.head()"
   ],
   "metadata": {
    "collapsed": false,
    "pycharm": {
     "name": "#%%\n"
    }
   }
  },
  {
   "cell_type": "code",
   "execution_count": 156,
   "outputs": [
    {
     "data": {
      "text/plain": "<matplotlib.axes._subplots.AxesSubplot at 0x11f16483308>"
     },
     "execution_count": 156,
     "metadata": {},
     "output_type": "execute_result"
    },
    {
     "data": {
      "text/plain": "<Figure size 432x288 with 1 Axes>",
      "image/png": "[encoded data removed]"
     },
     "metadata": {
      "needs_background": "light"
     },
     "output_type": "display_data"
    }
   ],
   "source": [
    "df['diff'] = df['GC'] - df['Close']\n",
    "\n",
    "df = df[df.index > datetime(2010,1,1)]\n",
    "\n",
    "df.plot()"
   ],
   "metadata": {
    "collapsed": false,
    "pycharm": {
     "name": "#%%\n"
    }
   }
  },
  {
   "cell_type": "code",
   "execution_count": 169,
   "outputs": [
    {
     "data": {
      "text/plain": "Timestamp('2014-09-16 00:00:00')"
     },
     "execution_count": 169,
     "metadata": {},
     "output_type": "execute_result"
    }
   ],
   "source": [
    "df['diff'].idxmax()\n"
   ],
   "metadata": {
    "collapsed": false,
    "pycharm": {
     "name": "#%%\n"
    }
   }
  }
 ],
 "metadata": {
  "kernelspec": {
   "name": "python3",
   "language": "python",
   "display_name": "Python 3"
  },
  "language_info": {
   "codemirror_mode": {
    "name": "ipython",
    "version": 2
   },
   "file_extension": ".py",
   "mimetype": "text/x-python",
   "name": "python",
   "nbconvert_exporter": "python",
   "pygments_lexer": "ipython2",
   "version": "2.7.6"
  }
 },
 "nbformat": 4,
 "nbformat_minor": 0
}