{
 "cells": [
  {
   "cell_type": "code",
   "execution_count": 2,
   "metadata": {
    "collapsed": true
   },
   "outputs": [],
   "source": [
    "import pandas as pd\n",
    "import yfinance as yf"
   ]
  },
  {
   "cell_type": "code",
   "execution_count": 3,
   "outputs": [
    {
     "data": {
      "text/plain": "            Date  Added                               Removed  \\\n            Date Ticker                      Security  Ticker   \n0  June 22, 2020    BIO          Bio-Rad Laboratories     ADS   \n1  June 22, 2020    TDY         Teledyne Technologies     HOG   \n2  June 22, 2020    TYL            Tyler Technologies     JWN   \n3   May 22, 2020    WST  West Pharmaceutical Services      HP   \n4   May 12, 2020    DPZ                Domino's Pizza    CPRI   \n\n                                                    Reason  \n                Security                            Reason  \n0  Alliance Data Systems  Market capitalization change.[6]  \n1        Harley-Davidson  Market capitalization change.[6]  \n2              Nordstrom  Market capitalization change.[6]  \n3      Helmerich & Payne  Market capitalization change.[7]  \n4         Capri Holdings  Market capitalization change.[8]  ",
      "text/html": "<div>\n<style scoped>\n    .dataframe tbody tr th:only-of-type {\n        vertical-align: middle;\n    }\n\n    .dataframe tbody tr th {\n        vertical-align: top;\n    }\n\n    .dataframe thead tr th {\n        text-align: left;\n    }\n</style>\n<table border=\"1\" class=\"dataframe\">\n  <thead>\n    <tr>\n      <th></th>\n      <th>Date</th>\n      <th colspan=\"2\" halign=\"left\">Added</th>\n      <th colspan=\"2\" halign=\"left\">Removed</th>\n      <th>Reason</th>\n    </tr>\n    <tr>\n      <th></th>\n      <th>Date</th>\n      <th>Ticker</th>\n      <th>Security</th>\n      <th>Ticker</th>\n      <th>Security</th>\n      <th>Reason</th>\n    </tr>\n  </thead>\n  <tbody>\n    <tr>\n      <th>0</th>\n      <td>June 22, 2020</td>\n      <td>BIO</td>\n      <td>Bio-Rad Laboratories</td>\n      <td>ADS</td>\n      <td>Alliance Data Systems</td>\n      <td>Market capitalization change.[6]</td>\n    </tr>\n    <tr>\n      <th>1</th>\n      <td>June 22, 2020</td>\n      <td>TDY</td>\n      <td>Teledyne Technologies</td>\n      <td>HOG</td>\n      <td>Harley-Davidson</td>\n      <td>Market capitalization change.[6]</td>\n    </tr>\n    <tr>\n      <th>2</th>\n      <td>June 22, 2020</td>\n      <td>TYL</td>\n      <td>Tyler Technologies</td>\n      <td>JWN</td>\n      <td>Nordstrom</td>\n      <td>Market capitalization change.[6]</td>\n    </tr>\n    <tr>\n      <th>3</th>\n      <td>May 22, 2020</td>\n      <td>WST</td>\n      <td>West Pharmaceutical Services</td>\n      <td>HP</td>\n      <td>Helmerich &amp; Payne</td>\n      <td>Market capitalization change.[7]</td>\n    </tr>\n    <tr>\n      <th>4</th>\n      <td>May 12, 2020</td>\n      <td>DPZ</td>\n      <td>Domino's Pizza</td>\n      <td>CPRI</td>\n      <td>Capri Holdings</td>\n      <td>Market capitalization change.[8]</td>\n    </tr>\n  </tbody>\n</table>\n</div>"
     },
     "execution_count": 3,
     "metadata": {},
     "output_type": "execute_result"
    }
   ],
   "source": [
    "data = pd.read_html('https://en.wikipedia.org/wiki/List_of_S%26P_500_companies')\n",
    "data[0].head()"
   ],
   "metadata": {
    "collapsed": false,
    "pycharm": {
     "name": "#%%\n"
    }
   }
  },
  {
   "cell_type": "code",
   "execution_count": 3,
   "outputs": [],
   "source": [
    "data[1].head()\n",
    "\n"
   ],
   "metadata": {
    "collapsed": false,
    "pycharm": {
     "name": "#%%\n"
    }
   }
  }
 ],
 "metadata": {
  "kernelspec": {
   "name": "pycharm-aac00010",
   "language": "python",
   "display_name": "PyCharm (stock_scraper)"
  },
  "language_info": {
   "codemirror_mode": {
    "name": "ipython",
    "version": 2
   },
   "file_extension": ".py",
   "mimetype": "text/x-python",
   "name": "python",
   "nbconvert_exporter": "python",
   "pygments_lexer": "ipython2",
   "version": "2.7.6"
  }
 },
 "nbformat": 4,
 "nbformat_minor": 0
}