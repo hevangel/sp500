{
 "cells": [
  {
   "cell_type": "code",
   "execution_count": 1,
   "metadata": {
    "collapsed": true,
    "pycharm": {
     "is_executing": false
    }
   },
   "outputs": [],
   "source": [
    "import pandas as pd\n"
   ]
  },
  {
   "cell_type": "code",
   "execution_count": 2,
   "outputs": [],
   "source": [
    "data = pd.read_html('https://en.wikipedia.org/wiki/List_of_S%26P_500_companies')\n",
    "\n"
   ],
   "metadata": {
    "collapsed": false,
    "pycharm": {
     "name": "#%%\n",
     "is_executing": false
    }
   }
  },
  {
   "cell_type": "code",
   "execution_count": 3,
   "outputs": [
    {
     "data": {
      "text/plain": "  Symbol             Security SEC filings             GICS Sector  \\\n0    MMM           3M Company     reports             Industrials   \n1    ABT  Abbott Laboratories     reports             Health Care   \n2   ABBV          AbbVie Inc.     reports             Health Care   \n3   ABMD          ABIOMED Inc     reports             Health Care   \n4    ACN        Accenture plc     reports  Information Technology   \n\n                GICS Sub Industry    Headquarters Location Date first added  \\\n0        Industrial Conglomerates      St. Paul, Minnesota              NaN   \n1           Health Care Equipment  North Chicago, Illinois       1964-03-31   \n2                 Pharmaceuticals  North Chicago, Illinois       2012-12-31   \n3           Health Care Equipment   Danvers, Massachusetts       2018-05-31   \n4  IT Consulting & Other Services          Dublin, Ireland       2011-07-06   \n\n       CIK      Founded  \n0    66740         1902  \n1     1800         1888  \n2  1551152  2013 (1888)  \n3   815094         1981  \n4  1467373         1989  ",
      "text/html": "<div>\n<style scoped>\n    .dataframe tbody tr th:only-of-type {\n        vertical-align: middle;\n    }\n\n    .dataframe tbody tr th {\n        vertical-align: top;\n    }\n\n    .dataframe thead th {\n        text-align: right;\n    }\n</style>\n<table border=\"1\" class=\"dataframe\">\n  <thead>\n    <tr style=\"text-align: right;\">\n      <th></th>\n      <th>Symbol</th>\n      <th>Security</th>\n      <th>SEC filings</th>\n      <th>GICS Sector</th>\n      <th>GICS Sub Industry</th>\n      <th>Headquarters Location</th>\n      <th>Date first added</th>\n      <th>CIK</th>\n      <th>Founded</th>\n    </tr>\n  </thead>\n  <tbody>\n    <tr>\n      <th>0</th>\n      <td>MMM</td>\n      <td>3M Company</td>\n      <td>reports</td>\n      <td>Industrials</td>\n      <td>Industrial Conglomerates</td>\n      <td>St. Paul, Minnesota</td>\n      <td>NaN</td>\n      <td>66740</td>\n      <td>1902</td>\n    </tr>\n    <tr>\n      <th>1</th>\n      <td>ABT</td>\n      <td>Abbott Laboratories</td>\n      <td>reports</td>\n      <td>Health Care</td>\n      <td>Health Care Equipment</td>\n      <td>North Chicago, Illinois</td>\n      <td>1964-03-31</td>\n      <td>1800</td>\n      <td>1888</td>\n    </tr>\n    <tr>\n      <th>2</th>\n      <td>ABBV</td>\n      <td>AbbVie Inc.</td>\n      <td>reports</td>\n      <td>Health Care</td>\n      <td>Pharmaceuticals</td>\n      <td>North Chicago, Illinois</td>\n      <td>2012-12-31</td>\n      <td>1551152</td>\n      <td>2013 (1888)</td>\n    </tr>\n    <tr>\n      <th>3</th>\n      <td>ABMD</td>\n      <td>ABIOMED Inc</td>\n      <td>reports</td>\n      <td>Health Care</td>\n      <td>Health Care Equipment</td>\n      <td>Danvers, Massachusetts</td>\n      <td>2018-05-31</td>\n      <td>815094</td>\n      <td>1981</td>\n    </tr>\n    <tr>\n      <th>4</th>\n      <td>ACN</td>\n      <td>Accenture plc</td>\n      <td>reports</td>\n      <td>Information Technology</td>\n      <td>IT Consulting &amp; Other Services</td>\n      <td>Dublin, Ireland</td>\n      <td>2011-07-06</td>\n      <td>1467373</td>\n      <td>1989</td>\n    </tr>\n  </tbody>\n</table>\n</div>"
     },
     "metadata": {},
     "output_type": "execute_result",
     "execution_count": 3
    }
   ],
   "source": [
    "data[0].head()\n"
   ],
   "metadata": {
    "collapsed": false,
    "pycharm": {
     "name": "#%%\n",
     "is_executing": false
    }
   }
  },
  {
   "cell_type": "code",
   "execution_count": 4,
   "outputs": [
    {
     "data": {
      "text/plain": "                 Date  Added                       Removed  \\\n                 Date Ticker              Security  Ticker   \n0     October 3, 2019    LVS  Las Vegas Sands Corp    NKTR   \n1  September 26, 2019    NVR               NVR Inc     JEF   \n2  September 23, 2019    CDW                   CDW     TSS   \n3      August 9, 2019   LDOS       Leidos Holdings     APC   \n4      August 9, 2019    IEX      IDEX Corporation      FL   \n\n                                  \\\n                        Security   \n0            Nektar Therapeutics   \n1  Jefferies Financial Group Inc   \n2                           TSYS   \n3             Anadarko Petroleum   \n4                    Foot Locker   \n\n                                              Reason  \n                                              Reason  \n0                              Market Cap changes[7]  \n1                            JEF spinning off SPB[8]  \n2  S&P 500 constituent Global Payments Inc. (NYSE...  \n3  S&P 500 & 100 constituent Occidental Petroleum...  \n4       Foot Locker moved to the S&P MidCap 400.[10]  ",
      "text/html": "<div>\n<style scoped>\n    .dataframe tbody tr th:only-of-type {\n        vertical-align: middle;\n    }\n\n    .dataframe tbody tr th {\n        vertical-align: top;\n    }\n\n    .dataframe thead tr th {\n        text-align: left;\n    }\n</style>\n<table border=\"1\" class=\"dataframe\">\n  <thead>\n    <tr>\n      <th></th>\n      <th>Date</th>\n      <th colspan=\"2\" halign=\"left\">Added</th>\n      <th colspan=\"2\" halign=\"left\">Removed</th>\n      <th>Reason</th>\n    </tr>\n    <tr>\n      <th></th>\n      <th>Date</th>\n      <th>Ticker</th>\n      <th>Security</th>\n      <th>Ticker</th>\n      <th>Security</th>\n      <th>Reason</th>\n    </tr>\n  </thead>\n  <tbody>\n    <tr>\n      <th>0</th>\n      <td>October 3, 2019</td>\n      <td>LVS</td>\n      <td>Las Vegas Sands Corp</td>\n      <td>NKTR</td>\n      <td>Nektar Therapeutics</td>\n      <td>Market Cap changes[7]</td>\n    </tr>\n    <tr>\n      <th>1</th>\n      <td>September 26, 2019</td>\n      <td>NVR</td>\n      <td>NVR Inc</td>\n      <td>JEF</td>\n      <td>Jefferies Financial Group Inc</td>\n      <td>JEF spinning off SPB[8]</td>\n    </tr>\n    <tr>\n      <th>2</th>\n      <td>September 23, 2019</td>\n      <td>CDW</td>\n      <td>CDW</td>\n      <td>TSS</td>\n      <td>TSYS</td>\n      <td>S&amp;P 500 constituent Global Payments Inc. (NYSE...</td>\n    </tr>\n    <tr>\n      <th>3</th>\n      <td>August 9, 2019</td>\n      <td>LDOS</td>\n      <td>Leidos Holdings</td>\n      <td>APC</td>\n      <td>Anadarko Petroleum</td>\n      <td>S&amp;P 500 &amp; 100 constituent Occidental Petroleum...</td>\n    </tr>\n    <tr>\n      <th>4</th>\n      <td>August 9, 2019</td>\n      <td>IEX</td>\n      <td>IDEX Corporation</td>\n      <td>FL</td>\n      <td>Foot Locker</td>\n      <td>Foot Locker moved to the S&amp;P MidCap 400.[10]</td>\n    </tr>\n  </tbody>\n</table>\n</div>"
     },
     "metadata": {},
     "output_type": "execute_result",
     "execution_count": 4
    }
   ],
   "source": [
    "data[1].head()\n",
    "\n"
   ],
   "metadata": {
    "collapsed": false,
    "pycharm": {
     "name": "#%%\n",
     "is_executing": false
    }
   }
  }
 ],
 "metadata": {
  "kernelspec": {
   "display_name": "Python 3",
   "language": "python",
   "name": "python3"
  },
  "language_info": {
   "codemirror_mode": {
    "name": "ipython",
    "version": 2
   },
   "file_extension": ".py",
   "mimetype": "text/x-python",
   "name": "python",
   "nbconvert_exporter": "python",
   "pygments_lexer": "ipython2",
   "version": "2.7.6"
  },
  "pycharm": {
   "stem_cell": {
    "cell_type": "raw",
    "source": [],
    "metadata": {
     "collapsed": false
    }
   }
  }
 },
 "nbformat": 4,
 "nbformat_minor": 0
}